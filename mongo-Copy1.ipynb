{
 "cells": [
  {
   "cell_type": "markdown",
   "metadata": {},
   "source": [
    "# Libraries"
   ]
  },
  {
   "cell_type": "code",
   "execution_count": 3,
   "metadata": {},
   "outputs": [],
   "source": [
    "import csv\n",
    "import glob\n",
    "import uuid\n",
    "import json\n",
    "from infostop import Infostop\n",
    "from pymongo import MongoClient\n",
    "import pandas as pd\n",
    "import h3\n",
    "#import googlemaps\n",
    "from geopy.geocoders import Nominatim\n",
    "\n",
    "import geopandas as gpd\n",
    "import shapely\n",
    "from multiprocessing import Pool\n",
    "import time\n",
    "import os\n",
    "import random\n",
    "import logging"
   ]
  },
  {
   "cell_type": "code",
   "execution_count": 33,
   "metadata": {},
   "outputs": [
    {
     "data": {
      "text/plain": [
       "{'place_id': 117738090,\n",
       " 'licence': 'Data © OpenStreetMap contributors, ODbL 1.0. https://osm.org/copyright',\n",
       " 'osm_type': 'way',\n",
       " 'osm_id': 121371938,\n",
       " 'lat': '-11.984585359454531',\n",
       " 'lon': '-77.0926334681423',\n",
       " 'display_name': 'Los Pinos Del Norte, Urb. Virgen del Rosario ll Etapa, San Martín de Porres, Lima, 15109, Perú',\n",
       " 'address': {'road': 'Los Pinos Del Norte',\n",
       "  'neighbourhood': 'Urb. Virgen del Rosario ll Etapa',\n",
       "  'suburb': 'San Martín de Porres',\n",
       "  'city': 'San Martín de Porres',\n",
       "  'region': 'Lima',\n",
       "  'state': 'Lima',\n",
       "  'postcode': '15109',\n",
       "  'country': 'Perú',\n",
       "  'country_code': 'pe'},\n",
       " 'boundingbox': ['-11.9847309', '-11.9843834', '-77.0932621', '-77.0920461']}"
      ]
     },
     "execution_count": 33,
     "metadata": {},
     "output_type": "execute_result"
    }
   ],
   "source": [
    "geolocator = Nominatim(user_agent=\"myapp\")\n",
    "coordinates = \"{}, {}\".format(-11.984677099999999, -77.09265620000002)\n",
    "\n",
    "info = geolocator.reverse(coordinates)\n",
    "\n",
    "info.raw"
   ]
  },
  {
   "cell_type": "code",
   "execution_count": 30,
   "metadata": {},
   "outputs": [
    {
     "data": {
      "text/plain": [
       "'Comas'"
      ]
     },
     "execution_count": 30,
     "metadata": {},
     "output_type": "execute_result"
    }
   ],
   "source": [
    "info.raw['address']['city']"
   ]
  },
  {
   "cell_type": "markdown",
   "metadata": {},
   "source": [
    "# Save to mongodb\n",
    "\n",
    "- H3: https://towardsdatascience.com/uber-h3-for-data-analysis-with-python-1e54acdcc908\n",
    "- openstreet normatim https://nominatim.org/release-docs/develop/api/Reverse/"
   ]
  },
  {
   "cell_type": "code",
   "execution_count": 50,
   "metadata": {},
   "outputs": [],
   "source": [
    "# client = MongoClient(\"mongodb://mongo.as-dell.copernic.local:27016\")\n",
    "# db = client[\"covid19\"]"
   ]
  },
  {
   "cell_type": "markdown",
   "metadata": {},
   "source": [
    "# Logger"
   ]
  },
  {
   "cell_type": "code",
   "execution_count": 5,
   "metadata": {},
   "outputs": [],
   "source": [
    "logger = logging.getLogger('mongodb_log')\n",
    "logger.setLevel(logging.DEBUG)\n",
    "fh = logging.FileHandler('mongodb.log', mode='w')\n",
    "fh.setLevel(logging.DEBUG)\n",
    "logger.addHandler(fh)\n",
    "formatter = logging.Formatter('%(asctime)s | %(name)s | %(levelname)s | %(process)d | %(message)s')\n",
    "fh.setFormatter(formatter)\n",
    "logger.addHandler(fh)"
   ]
  },
  {
   "cell_type": "markdown",
   "metadata": {},
   "source": [
    "# Save to Json "
   ]
  },
  {
   "cell_type": "code",
   "execution_count": 1,
   "metadata": {},
   "outputs": [],
   "source": [
    "def parse_traj(file):\n",
    "    model = Infostop()\n",
    "\n",
    "    df = pd.read_csv(file, sep=',')\n",
    "    df.columns = [\"user_id\", \"date\", \"lon\", \"lat\"]\n",
    "    df[\"date\"] = pd.to_datetime(df.date)\n",
    "    df.sort_values(by=\"date\", inplace=True)\n",
    "    df[\"ts\"] = (df[\"date\"] - pd.Timestamp(\"1970-01-01\")) // pd.Timedelta('1s')\n",
    "\n",
    "    traj = df[[\"lat\", \"lon\", \"ts\"]].values\n",
    "    model = Infostop(r1=50, r2=50, min_staying_time=200)\n",
    "    labels = model.fit_predict(traj)\n",
    "    df[\"label\"] = labels\n",
    "    logger.info(\"Parse trajectorie OK | {}\".format(file))\n",
    "    return df\n",
    "\n",
    "def create_record(df, use_geocoding=False):\n",
    "    geolocator = Nominatim(user_agent=\"myapp\")\n",
    "\n",
    "    record = {}\n",
    "    record[\"_id\"] = df[\"user_id\"].iloc[0]\n",
    "    location = []\n",
    "    idx = 0\n",
    "    prev_coordinates = \"\"\n",
    "    for k,row in df.iterrows():\n",
    "        \n",
    "        loc = {\n",
    "                \"index\": idx, \n",
    "                \"date\": str(row[\"date\"]), \n",
    "                \"lat\": row[\"lat\"], \n",
    "                \"lon\": row[\"lon\"], \n",
    "                \"label\": row[\"label\"],\n",
    "                \"h3_10\" : h3.geo_to_h3(row[\"lat\"], row[\"lon\"], 10),\n",
    "                \"h3_9\" : h3.geo_to_h3(row[\"lat\"], row[\"lon\"], 9),\n",
    "                \"h3_8\" : h3.geo_to_h3(row[\"lat\"], row[\"lon\"], 8),\n",
    "                \"h3_7\" : h3.geo_to_h3(row[\"lat\"], row[\"lon\"], 7),\n",
    "                \"h3_6\" : h3.geo_to_h3(row[\"lat\"], row[\"lon\"], 6)\n",
    "        }\n",
    "        \n",
    "        if use_geocoding:\n",
    "            coordinates = \"{}, {}\".format(row[\"lat\"], row[\"lon\"])\n",
    "            if prev_coordinates == coordinates:\n",
    "                info = prev_info\n",
    "            else:\n",
    "                info = geolocator.reverse(coordinates)\n",
    "            \n",
    "            if \"road\" in info.raw[\"address\"].keys(): \n",
    "                loc[\"road\"] = info.raw[\"address\"][\"road\"]\n",
    "            if \"city\" in info.raw[\"address\"].keys():\n",
    "                loc[\"city\"] = info.raw[\"address\"][\"city\"]\n",
    "            if \"region\" in info.raw[\"address\"].keys():\n",
    "                loc[\"region\"] = info.raw[\"address\"][\"region\"]\n",
    "            if \"shop\" in info.raw[\"address\"].keys():\n",
    "                loc[\"shop\"] = info.raw[\"address\"][\"shop\"]\n",
    "                \n",
    "            prev_coordinates = coordinates\n",
    "            prev_info = info\n",
    "       \n",
    "        location.append(loc)\n",
    "        idx += 1\n",
    "    record[\"location\"] = location\n",
    "    return record\n",
    "\n",
    "def preProcessFile(file):\n",
    "    tmp = pd.read_csv(file).sort_values('datetime').dropna()\n",
    "    cond = (abs(tmp.x)<=180) & (abs(tmp.y)<=90)\n",
    "    tmp[cond].to_csv(file, index=False)\n",
    "\n",
    "def processJson (file, saveFile=False):\n",
    "    filesPath = 'Data/devices_list' #path for csv files\n",
    "    jsonPath = 'Data/devices_json' #path for json files\n",
    "    filepath = os.path.join(filesPath, file)\n",
    "    try:\n",
    "#         preProcessFile(filepath) #pre process to quit Nan records and validate coordinates\n",
    "        df = parse_traj(filepath)\n",
    "        record = create_record(df, use_geocoding=False)\n",
    "        if saveFile:\n",
    "            fileJson = file.replace('.csv', '.json')\n",
    "            fileJsonPath = os.path.join(jsonPath, fileJson )\n",
    "            with open(fileJsonPath, 'w') as fp:\n",
    "                json.dump(record, fp, indent=3)\n",
    "                logger.info(\"File OK | {}\".format(file))\n",
    "                return fileJsonPath\n",
    "        return record\n",
    "    except Exception as e:\n",
    "        logger.error(\"Error in file: | {} | {}\".format(file, e))"
   ]
  },
  {
   "cell_type": "code",
   "execution_count": 261,
   "metadata": {},
   "outputs": [],
   "source": [
    "files = os.listdir(\"Data/devices_list\")\n",
    "\n",
    "jsons = os.listdir(\"Data/devices_json\")\n",
    "jsons = [x.replace('.json', '.csv') for x in jsons]\n",
    "\n",
    "\n",
    "toProcess = list(set(files) - set(jsons))\n",
    "print(len(toProcess))\n",
    "toProcess[:10]"
   ]
  },
  {
   "cell_type": "code",
   "execution_count": 260,
   "metadata": {},
   "outputs": [],
   "source": [
    "##Main execution using multiprocessing\n",
    "if __name__ == '__main__':\n",
    "    ts = time.time()\n",
    "    pool = Pool(os.cpu_count())                         # Create a multiprocessing Pool\n",
    "\n",
    "    files = toProcess #list of file to be processed\n",
    "\n",
    "    logger.info(\"Total files: {}\".format(len(files)))\n",
    "    \n",
    "    pool.map(processJson, files)\n",
    "    logger.info('Process finished in {} seconds'.format(time.time() - ts))"
   ]
  },
  {
   "cell_type": "markdown",
   "metadata": {},
   "source": [
    "# Others test"
   ]
  },
  {
   "cell_type": "code",
   "execution_count": 8,
   "metadata": {
    "scrolled": false
   },
   "outputs": [
    {
     "data": {
      "text/html": [
       "<div>\n",
       "<style scoped>\n",
       "    .dataframe tbody tr th:only-of-type {\n",
       "        vertical-align: middle;\n",
       "    }\n",
       "\n",
       "    .dataframe tbody tr th {\n",
       "        vertical-align: top;\n",
       "    }\n",
       "\n",
       "    .dataframe thead th {\n",
       "        text-align: right;\n",
       "    }\n",
       "</style>\n",
       "<table border=\"1\" class=\"dataframe\">\n",
       "  <thead>\n",
       "    <tr style=\"text-align: right;\">\n",
       "      <th></th>\n",
       "      <th>user_id</th>\n",
       "      <th>date</th>\n",
       "      <th>lon</th>\n",
       "      <th>lat</th>\n",
       "      <th>ts</th>\n",
       "      <th>label</th>\n",
       "    </tr>\n",
       "  </thead>\n",
       "  <tbody>\n",
       "    <tr>\n",
       "      <th>0</th>\n",
       "      <td>e98001c8-56a0-4b71-9aa3-196132244373</td>\n",
       "      <td>2020-04-04 18:02:24</td>\n",
       "      <td>-73.256790</td>\n",
       "      <td>-3.730481</td>\n",
       "      <td>1586023344</td>\n",
       "      <td>-1</td>\n",
       "    </tr>\n",
       "    <tr>\n",
       "      <th>1</th>\n",
       "      <td>e98001c8-56a0-4b71-9aa3-196132244373</td>\n",
       "      <td>2020-04-06 14:01:04</td>\n",
       "      <td>-73.256836</td>\n",
       "      <td>-3.730478</td>\n",
       "      <td>1586181664</td>\n",
       "      <td>1</td>\n",
       "    </tr>\n",
       "    <tr>\n",
       "      <th>2</th>\n",
       "      <td>e98001c8-56a0-4b71-9aa3-196132244373</td>\n",
       "      <td>2020-04-06 14:03:53</td>\n",
       "      <td>-73.256807</td>\n",
       "      <td>-3.730466</td>\n",
       "      <td>1586181833</td>\n",
       "      <td>1</td>\n",
       "    </tr>\n",
       "    <tr>\n",
       "      <th>3</th>\n",
       "      <td>e98001c8-56a0-4b71-9aa3-196132244373</td>\n",
       "      <td>2020-04-06 14:04:02</td>\n",
       "      <td>-73.256807</td>\n",
       "      <td>-3.730466</td>\n",
       "      <td>1586181842</td>\n",
       "      <td>1</td>\n",
       "    </tr>\n",
       "    <tr>\n",
       "      <th>4</th>\n",
       "      <td>e98001c8-56a0-4b71-9aa3-196132244373</td>\n",
       "      <td>2020-04-06 14:18:32</td>\n",
       "      <td>-73.256811</td>\n",
       "      <td>-3.730456</td>\n",
       "      <td>1586182712</td>\n",
       "      <td>1</td>\n",
       "    </tr>\n",
       "    <tr>\n",
       "      <th>...</th>\n",
       "      <td>...</td>\n",
       "      <td>...</td>\n",
       "      <td>...</td>\n",
       "      <td>...</td>\n",
       "      <td>...</td>\n",
       "      <td>...</td>\n",
       "    </tr>\n",
       "    <tr>\n",
       "      <th>947</th>\n",
       "      <td>e98001c8-56a0-4b71-9aa3-196132244373</td>\n",
       "      <td>2020-10-15 04:43:04</td>\n",
       "      <td>-73.256761</td>\n",
       "      <td>-3.730484</td>\n",
       "      <td>1602736984</td>\n",
       "      <td>-1</td>\n",
       "    </tr>\n",
       "    <tr>\n",
       "      <th>948</th>\n",
       "      <td>e98001c8-56a0-4b71-9aa3-196132244373</td>\n",
       "      <td>2020-10-15 11:47:52</td>\n",
       "      <td>-73.253811</td>\n",
       "      <td>-3.724790</td>\n",
       "      <td>1602762472</td>\n",
       "      <td>-1</td>\n",
       "    </tr>\n",
       "    <tr>\n",
       "      <th>949</th>\n",
       "      <td>e98001c8-56a0-4b71-9aa3-196132244373</td>\n",
       "      <td>2020-10-15 11:48:42</td>\n",
       "      <td>-73.246045</td>\n",
       "      <td>-3.723175</td>\n",
       "      <td>1602762522</td>\n",
       "      <td>-1</td>\n",
       "    </tr>\n",
       "    <tr>\n",
       "      <th>950</th>\n",
       "      <td>e98001c8-56a0-4b71-9aa3-196132244373</td>\n",
       "      <td>2020-10-15 11:51:56</td>\n",
       "      <td>-73.245912</td>\n",
       "      <td>-3.713858</td>\n",
       "      <td>1602762716</td>\n",
       "      <td>-1</td>\n",
       "    </tr>\n",
       "    <tr>\n",
       "      <th>951</th>\n",
       "      <td>e98001c8-56a0-4b71-9aa3-196132244373</td>\n",
       "      <td>2020-10-15 11:56:19</td>\n",
       "      <td>-73.248565</td>\n",
       "      <td>-3.706294</td>\n",
       "      <td>1602762979</td>\n",
       "      <td>-1</td>\n",
       "    </tr>\n",
       "  </tbody>\n",
       "</table>\n",
       "<p>952 rows × 6 columns</p>\n",
       "</div>"
      ],
      "text/plain": [
       "                                  user_id                date        lon  \\\n",
       "0    e98001c8-56a0-4b71-9aa3-196132244373 2020-04-04 18:02:24 -73.256790   \n",
       "1    e98001c8-56a0-4b71-9aa3-196132244373 2020-04-06 14:01:04 -73.256836   \n",
       "2    e98001c8-56a0-4b71-9aa3-196132244373 2020-04-06 14:03:53 -73.256807   \n",
       "3    e98001c8-56a0-4b71-9aa3-196132244373 2020-04-06 14:04:02 -73.256807   \n",
       "4    e98001c8-56a0-4b71-9aa3-196132244373 2020-04-06 14:18:32 -73.256811   \n",
       "..                                    ...                 ...        ...   \n",
       "947  e98001c8-56a0-4b71-9aa3-196132244373 2020-10-15 04:43:04 -73.256761   \n",
       "948  e98001c8-56a0-4b71-9aa3-196132244373 2020-10-15 11:47:52 -73.253811   \n",
       "949  e98001c8-56a0-4b71-9aa3-196132244373 2020-10-15 11:48:42 -73.246045   \n",
       "950  e98001c8-56a0-4b71-9aa3-196132244373 2020-10-15 11:51:56 -73.245912   \n",
       "951  e98001c8-56a0-4b71-9aa3-196132244373 2020-10-15 11:56:19 -73.248565   \n",
       "\n",
       "          lat          ts  label  \n",
       "0   -3.730481  1586023344     -1  \n",
       "1   -3.730478  1586181664      1  \n",
       "2   -3.730466  1586181833      1  \n",
       "3   -3.730466  1586181842      1  \n",
       "4   -3.730456  1586182712      1  \n",
       "..        ...         ...    ...  \n",
       "947 -3.730484  1602736984     -1  \n",
       "948 -3.724790  1602762472     -1  \n",
       "949 -3.723175  1602762522     -1  \n",
       "950 -3.713858  1602762716     -1  \n",
       "951 -3.706294  1602762979     -1  \n",
       "\n",
       "[952 rows x 6 columns]"
      ]
     },
     "execution_count": 8,
     "metadata": {},
     "output_type": "execute_result"
    }
   ],
   "source": [
    "#Parse Trajectorie\n",
    "file = 'Data/devices_list/FILEe98001c8-56a0-4b71-9aa3-196132244373.csv'\n",
    "# df = parse_traj(tmp)\n",
    "\n",
    "model = Infostop()\n",
    "\n",
    "df = pd.read_csv(file, sep=',')\n",
    "df.columns = [\"user_id\", \"date\", \"lon\", \"lat\"]\n",
    "df[\"date\"] = pd.to_datetime(df.date)\n",
    "df.sort_values(by=\"date\", inplace=True)\n",
    "df[\"ts\"] = (df[\"date\"] - pd.Timestamp(\"1970-01-01\")) // pd.Timedelta('1s')\n",
    "\n",
    "traj = df[[\"lat\", \"lon\", \"ts\"]].values\n",
    "model = Infostop(r1=50, r2=50, min_staying_time=200)\n",
    "# model = Infostop()\n",
    "labels = model.fit_predict(traj)\n",
    "df[\"label\"] = labels\n",
    "logger.info(\"Parse trajectorie OK | {}\".format(file))\n",
    "\n",
    "df.sort_values('date')"
   ]
  },
  {
   "cell_type": "code",
   "execution_count": 31,
   "metadata": {},
   "outputs": [
    {
     "name": "stdout",
     "output_type": "stream",
     "text": [
      "CPU times: user 9.28 s, sys: 403 ms, total: 9.69 s\n",
      "Wall time: 11.7 s\n"
     ]
    }
   ],
   "source": [
    "%%time\n",
    "rec = []\n",
    "for file in files[:10]:\n",
    "    df = parse_traj(file)\n",
    "    # geoconding could be time consumming\n",
    "    record = create_record(df, use_geocoding=False)\n",
    "    #db.user_locations.insert_one(record)\n",
    "    rec.append(record)"
   ]
  }
 ],
 "metadata": {
  "kernelspec": {
   "display_name": "Python 3",
   "language": "python",
   "name": "python3"
  },
  "language_info": {
   "codemirror_mode": {
    "name": "ipython",
    "version": 3
   },
   "file_extension": ".py",
   "mimetype": "text/x-python",
   "name": "python",
   "nbconvert_exporter": "python",
   "pygments_lexer": "ipython3",
   "version": "3.6.9"
  }
 },
 "nbformat": 4,
 "nbformat_minor": 4
}
